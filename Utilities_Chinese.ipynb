{
  "nbformat": 4,
  "nbformat_minor": 0,
  "metadata": {
    "colab": {
      "provenance": []
    },
    "kernelspec": {
      "name": "python3",
      "display_name": "Python 3"
    },
    "language_info": {
      "name": "python"
    }
  },
  "cells": [
    {
      "cell_type": "code",
      "execution_count": null,
      "metadata": {
        "id": "lgJwRjm7Wkxf"
      },
      "outputs": [],
      "source": [
        "# Utilities (Chinese)\n",
        "\n",
        "Content=input(\"Enter string:\").upper()\n",
        "L1=['''ADMS''','''先進的配電管理系統''','''CELSIA''','''ELECTRIFICADORA DEL CARIBE''','''EMPRESA ELECTRICA QUITO SA''','''EMPRESAS PUBLICAS DE MEDELLIN''','''SEMPRA ENERGY INTERNATIONAL''','''PAMPA ENERGIA''','''AUSGRID''','''AUSNET''','''ENDEAVOUR ENERGY''','''ENERGEX''','''ERGON''','''ESSENTIAL ENERGY''','''EVOENERGY''','''POWERCOR''','''SA POWER NETWORKS''','''TASNETWORKS''','''WESTERN POWER''','''SALZBURG AG FÜR ENERGIE VERKEHR UND TELEKOMMUNIKATION''','''CPFL''','''ENERGISA''','''EQUATORIAL ENERGIA''','''CEZ UTILITY - 保加利亚''','''CEZ UTILITY-保加利亞''','''NPP KOZLODUY EAD''','''OPERATORI SHPERNDARJES ENERGJISE ELEKTRIKE''','''ALECTRA''','''ATCO ELECTRIC''','''BC HYDRO''','''BRUCE POWER''','''HYDRO ONE''','''HYDRO QUEBEC''','''MANITOBA HYDRO''','''ONTARIO POWER GENERATION''','''SASK POWER''','''AZERISHIG''','''土库曼斯坦能源局''','''土庫曼斯坦能源局''','''CHILQUINTA''','''TRANSELEC SA''','''CEZ  A. S.''','''PRAZSKA ENERGETIKA''','''UNICAPITAL''','''KK WIND SOLUTIONS A/S''','''智能电网设施''','''智能電網設施''','''電能''','''風能''','''风能''','''发电厂''','''发电场''','''电力公司''','''發電場''','''發電廠''','''電力公司''','''風力發電站''','''風電場''','''风力发电站''','''风电场''','''公用事业市场''','''公用事業市場''','''电力市场''','''電力市場''','''可再生能源''','''可靠能源''','''数字能源''','''數字能源''','''水力发电''','''水力發電''','''电能''','''綠色能源''','''绿色能源''','''能源''','''配电设施''','''配電設施''','''電能''','''电网能效''','''能源管理''','''電網能效管理''','''需求侧管理''','''SOLVAY''','''CI ENERGIES''','''ENEO''','''ERANOVE''','''ONEE UTILITY''','''SENELEC''','''SONELGAZ''','''地理信息系統''','''地理信息系统''','''E.ON SE''','''ANDHRA PRADESH EASTERN POWER DISTRIBUTION COMPANY LIMITED''','''ANDHRA PRADESH SOUTHERN POWER DISTRIBUTION COMPANY LIMITED''','''BSES DELHI DISCOM''','''BIHAR STATE UTILITIES''','''HARYANA DISCOM''','''ODISHA POWER TRANSMISSION''','''TATA POWER DELHI DISTRIBUTION''','''TORRENT POWER''','''BIOSAR ENERGY S.A.''','''EAC - 塞浦路斯电力局''','''EAC - 塞浦路斯電力局''','''PPC S.A.''','''智能微網''','''智能微网''','''智能电网''','''智能電網''','''網絡自動化''','''网络自动化''','''ADWEA''','''DEWA''','''EHC OMAN''','''KAHRAMAA ELECTRIC''','''SEWA''','''科威特水电部''','''CLP POWER''','''HONG KONG ELECTRIC''','''中電''','''港燈''','''MVM PAKS II.ATOMERŐMŰ FEJLESZTŐ ZRT.''','''NKM ÁRAMSZOLGÁLTATÓ ZRT''','''PAKS 1.''','''RWE - ELMŰ_ÉMÁSZ''','''PLN (PERSERO)''','''A2A GROUP''','''ACEA SPA''','''HERA (ACEGAS + DIV. ACQUA)''','''IREN''','''TERNA''','''TENAGA NASIONAL BERHAD''','''伊拉克电力部''','''伊拉克電力部''','''ABOITIZ''','''ENERGY DEVELOPMENT CORPORATION''','''MERALCO''','''光伏''','''ENEA''','''ENERGA''','''TAURON''','''ELECTRICIDADE DA MADEIRA (EEM)''','''发电''','''向岸風''','''向岸风''','''發電''','''离岸风''','''離岸風''','''風力渦輪機''','''风力涡轮机''','''多功能數位式集合電錶''','''电能表''','''電力儀表器''','''電能表''','''可靠的电气基础设施''','''可靠的電氣基礎設施''','''CEZ ROMANIA''','''FILIALA DE DISTRIBUTIE A ENERGIEI ELECTRICE ELECTRICA SA''','''ROSSETI''','''EUCL''','''无六氟化硫''','''無六氟化硫''','''無六氟化硫氣體''','''SEC HQ''','''ELEKTROMREZA SRBIJE EMS''','''ELEKTRO LJUBLJANA''','''ELES ELEKTRO-SLOVENIJA''','''ELEKTROPRIVREDA REPUBLIKE SRPSKE  TREBINJE''','''HRVATSKA ELEKTROPRIVREDA''','''JP ELEKTROPRIVREDA''','''VYCHODOSLOVENSKA ENERGETIKA''','''ZAPADOSLOVENSKA ENERGETIKA''','''B.GRIMM POWER PUBLIC COMPANY LIMITED''','''ELECTRICITY GENERATING AUTHORITY OF THAILAND''','''METROPOLITAN ELECTRICITY AUTHORITY''','''PROVINCIAL ELECTRICITY AUTHORITY''','''变压器''','''變壓器''','''AKFEN''','''ENERJISA''','''FINA ENERJI''','''ELECTRICITY NORTHWEST''','''GIBRALTAR ELECTRICITY''','''NORTHERN POWER GRID''','''POWER ON''','''SCOTTISH & SOUTHERN ENERGY''','''UK POWER NETWORKS''','''WESTERN POWER DISTRIBUTION''','''ALLIANT''','''AMEREN''','''AMERICAN ELECTRIC POWER''','''DETROIT EDISON''','''DUKE ENERGY''','''DYNAMIC ENERGY''','''EXELON''','''FIRSTENERGY''','''NEXTERA''','''PG&E''','''XCEL ENERGY''','''ELECTRICITY OF VIETNAM''','''配电''','''配電''','''電力分配''','''发电''','''电力工业''','''电力设施''','''發電''','''電力工業''','''電力設施''','''電氣''','''SMART RMU''','''智能環路開關''','''变电站自动化系统''','''變電站自動化系統''']\n",
        "mention_count1=0\n",
        "keyword_count1=0\n",
        "for x  in L1:\n",
        "    y=Content.count(x)\n",
        "    if y!=0:\n",
        "     print(x,y)\n",
        "     mention_count1 = mention_count1+y\n",
        "     keyword_count1=keyword_count1+1\n",
        "print(\"----Total Count----\")\n",
        "print(\"Keyword Count :\",keyword_count1,\"   Mention Count :\",mention_count1)\n"
      ]
    }
  ]
}