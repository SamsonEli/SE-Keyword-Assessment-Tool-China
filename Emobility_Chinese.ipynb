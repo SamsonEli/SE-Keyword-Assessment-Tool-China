{
  "nbformat": 4,
  "nbformat_minor": 0,
  "metadata": {
    "colab": {
      "provenance": []
    },
    "kernelspec": {
      "name": "python3",
      "display_name": "Python 3"
    },
    "language_info": {
      "name": "python"
    }
  },
  "cells": [
    {
      "cell_type": "code",
      "execution_count": null,
      "metadata": {
        "id": "Ytui_CL5SNzE"
      },
      "outputs": [],
      "source": [
        "# E mobility (Chinese)\n",
        "\n",
        "Content=input(\"Enter string:\").upper()\n",
        "L1=['''交流充电''','''交流充电器''','''交流电动汽车充电器''','''交流电动车充电站''','''电动汽车交流充电站''','''电动车交流充电器''','''充电桩运营商''','''充电点运营商''','''电动交通服务''','''电动交通服务提供商''','''电动汽车充电桩运营商''','''电动车充电点运营商''','''电动交通出行解决方案''','''电动交通解决方案''','''电动出行解决方案''','''电动汽车充电器''','''电动汽车充电站''','''电动车充电''','''电动车充电器''','''电动车充电站''','''电动汽车充电管理系统''','''电动汽车充电系统''','''电动汽车充电能源管理系统''','''电动汽车管理软件''','''电动汽车能源管理系统''','''电动汽车能源管理软件''','''电动汽车载荷管理系统''','''电动车充电系统''','''电动车管理软件''','''电动车能源管理系统''','''电动车能源管理软件''','''电动车载荷管理系统''','''电动汽车充电解决方案''','''电动汽车解决方案''','''电动车充电解决方案''','''电动车解决方案''','''电动车快速充电''','''电动车快速充电站''','''直流快速充电器''','''直流电动汽车充电器''','''V2G''','''智能充电''','''智能电动汽车充电''','''电动车智能充电''','''车辆到建筑物''','''链接电动车与电网''']\n",
        "mention_count1=0\n",
        "keyword_count1=0\n",
        "for x  in L1:\n",
        "    y=Content.count(x)\n",
        "    if y!=0:\n",
        "     print(x,y)\n",
        "     mention_count1 = mention_count1+y\n",
        "     keyword_count1=keyword_count1+1\n",
        "print(\"----Total Count----\")\n",
        "print(\"Keyword Count :\",keyword_count1,\"   Mention Count :\",mention_count1)\n"
      ]
    }
  ]
}